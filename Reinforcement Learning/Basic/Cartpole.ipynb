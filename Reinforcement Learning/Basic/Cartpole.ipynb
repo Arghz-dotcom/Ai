{
 "cells": [
  {
   "cell_type": "code",
   "execution_count": 1,
   "id": "06881341-1aad-4038-99a3-0c94b42cc51a",
   "metadata": {},
   "outputs": [
    {
     "name": "stdout",
     "output_type": "stream",
     "text": [
      "Requirement already satisfied: gym in c:\\users\\arghz\\miniconda3\\envs\\keras\\lib\\site-packages (0.24.1)\n",
      "Requirement already satisfied: cloudpickle>=1.2.0 in c:\\users\\arghz\\miniconda3\\envs\\keras\\lib\\site-packages (from gym) (2.1.0)\n",
      "Requirement already satisfied: numpy>=1.18.0 in c:\\users\\arghz\\miniconda3\\envs\\keras\\lib\\site-packages (from gym) (1.23.1)\n",
      "Requirement already satisfied: gym-notices>=0.0.4 in c:\\users\\arghz\\miniconda3\\envs\\keras\\lib\\site-packages (from gym) (0.0.7)\n"
     ]
    }
   ],
   "source": [
    "!pip install gym"
   ]
  },
  {
   "cell_type": "markdown",
   "id": "e3c561e5-09ba-4e8a-85a1-766bd41e6206",
   "metadata": {},
   "source": [
    "1. Test random environment with OpenAI gym"
   ]
  },
  {
   "cell_type": "code",
   "execution_count": 2,
   "id": "f3330eb0-c405-4a51-8539-6f0d2b350550",
   "metadata": {},
   "outputs": [],
   "source": [
    "import gym\n",
    "import random"
   ]
  },
  {
   "cell_type": "code",
   "execution_count": 4,
   "id": "d19839da-ced5-48c7-ac2b-d2798fffac74",
   "metadata": {},
   "outputs": [],
   "source": [
    "env = gym.make('CartPole-v1')\n",
    "states = env.observation_space.shape[0]\n",
    "actions = env.action_space.n"
   ]
  },
  {
   "cell_type": "code",
   "execution_count": 11,
   "id": "f04c8e18-3f0d-44f3-9c76-5771bc622207",
   "metadata": {},
   "outputs": [
    {
     "name": "stdout",
     "output_type": "stream",
     "text": [
      "Episode:1 Score:27.0\n",
      "Episode:2 Score:10.0\n",
      "Episode:3 Score:12.0\n",
      "Episode:4 Score:14.0\n",
      "Episode:5 Score:18.0\n",
      "Episode:6 Score:9.0\n",
      "Episode:7 Score:27.0\n",
      "Episode:8 Score:23.0\n",
      "Episode:9 Score:20.0\n",
      "Episode:10 Score:11.0\n"
     ]
    }
   ],
   "source": [
    "episodes = 10\n",
    "for episode in range(1, episodes+1):\n",
    "    state = env.reset()\n",
    "    done = False\n",
    "    score = 0 \n",
    "    \n",
    "    while not done:\n",
    "        env.render()\n",
    "        action = random.choice([0,1])\n",
    "        n_state, reward, done, info = env.step(action)\n",
    "        score+=reward\n",
    "    print('Episode:{} Score:{}'.format(episode, score))"
   ]
  },
  {
   "cell_type": "markdown",
   "id": "0b45b65a-d727-4528-a4c6-06d8ac879a0c",
   "metadata": {},
   "source": [
    "2. Create a Deep Learning Model with Keras"
   ]
  },
  {
   "cell_type": "code",
   "execution_count": 12,
   "id": "393ac91a-e333-41a3-8a26-c7b0eb3b9966",
   "metadata": {},
   "outputs": [
    {
     "name": "stderr",
     "output_type": "stream",
     "text": [
      "C:\\Users\\Arghz\\miniconda3\\envs\\Keras\\lib\\site-packages\\flatbuffers\\compat.py:19: DeprecationWarning: the imp module is deprecated in favour of importlib and slated for removal in Python 3.12; see the module's documentation for alternative uses\n",
      "  import imp\n"
     ]
    }
   ],
   "source": [
    "import numpy as np\n",
    "from tensorflow.keras.models import Sequential\n",
    "from tensorflow.keras.layers import Dense, Flatten\n",
    "from tensorflow.keras.optimizers import Adam"
   ]
  },
  {
   "cell_type": "code",
   "execution_count": 13,
   "id": "36e0a15b-e31f-4167-897a-dd0c35041466",
   "metadata": {},
   "outputs": [],
   "source": [
    "def build_model(states, actions):\n",
    "    model = Sequential()\n",
    "    model.add(Flatten(input_shape=(1,states)))\n",
    "    model.add(Dense(24, activation='relu'))\n",
    "    model.add(Dense(24, activation='relu'))\n",
    "    model.add(Dense(actions, activation='linear'))\n",
    "    return model"
   ]
  },
  {
   "cell_type": "code",
   "execution_count": 23,
   "id": "434c6491-2509-4084-a9a6-40fa6c9d920b",
   "metadata": {},
   "outputs": [],
   "source": [
    "del model"
   ]
  },
  {
   "cell_type": "code",
   "execution_count": 24,
   "id": "f174ef99-b159-44a3-856e-d5717dcfa576",
   "metadata": {},
   "outputs": [],
   "source": [
    "model = build_model(states, actions)"
   ]
  },
  {
   "cell_type": "code",
   "execution_count": 25,
   "id": "946646dc-6b51-422d-8e8e-184e0c724897",
   "metadata": {},
   "outputs": [
    {
     "name": "stdout",
     "output_type": "stream",
     "text": [
      "Model: \"sequential_1\"\n",
      "_________________________________________________________________\n",
      " Layer (type)                Output Shape              Param #   \n",
      "=================================================================\n",
      " flatten_1 (Flatten)         (None, 4)                 0         \n",
      "                                                                 \n",
      " dense_3 (Dense)             (None, 24)                120       \n",
      "                                                                 \n",
      " dense_4 (Dense)             (None, 24)                600       \n",
      "                                                                 \n",
      " dense_5 (Dense)             (None, 2)                 50        \n",
      "                                                                 \n",
      "=================================================================\n",
      "Total params: 770\n",
      "Trainable params: 770\n",
      "Non-trainable params: 0\n",
      "_________________________________________________________________\n"
     ]
    }
   ],
   "source": [
    "model.summary()"
   ]
  },
  {
   "cell_type": "markdown",
   "id": "3a3ec0b6-0fb8-444c-954e-2cb58c85bae2",
   "metadata": {},
   "source": [
    "3. Build Agent with Keras-RL"
   ]
  },
  {
   "cell_type": "code",
   "execution_count": 26,
   "id": "51b86b43-0186-4aea-987f-4bfbab102fce",
   "metadata": {},
   "outputs": [],
   "source": [
    "from rl.agents import DQNAgent\n",
    "from rl.policy import BoltzmannQPolicy\n",
    "from rl.memory import SequentialMemory"
   ]
  },
  {
   "cell_type": "code",
   "execution_count": 27,
   "id": "185dcdde-5ce4-4b09-9827-1ce91a43c268",
   "metadata": {},
   "outputs": [],
   "source": [
    "def build_agent(model, actions):\n",
    "    policy = BoltzmannQPolicy()\n",
    "    memory = SequentialMemory(limit=50000, window_length=1)\n",
    "    dqn = DQNAgent(model=model, memory=memory, policy=policy, \n",
    "                  nb_actions=actions, nb_steps_warmup=10, target_model_update=1e-2)\n",
    "    return dqn"
   ]
  },
  {
   "cell_type": "code",
   "execution_count": 28,
   "id": "8395325c-758a-442a-9825-3a75e256e61f",
   "metadata": {},
   "outputs": [
    {
     "name": "stdout",
     "output_type": "stream",
     "text": [
      "Training for 50000 steps ...\n",
      "Interval 1 (0 steps performed)\n"
     ]
    },
    {
     "name": "stderr",
     "output_type": "stream",
     "text": [
      "C:\\Users\\Arghz\\miniconda3\\envs\\Keras\\lib\\site-packages\\keras\\engine\\training_v1.py:2067: UserWarning: `Model.state_updates` will be removed in a future version. This property should not be used in TensorFlow 2.0, as `updates` are applied automatically.\n",
      "  updates=self.state_updates,\n"
     ]
    },
    {
     "name": "stdout",
     "output_type": "stream",
     "text": [
      "    1/10000 [..............................] - ETA: 1:47:40 - reward: 1.0000"
     ]
    },
    {
     "name": "stderr",
     "output_type": "stream",
     "text": [
      "C:\\Users\\Arghz\\miniconda3\\envs\\Keras\\lib\\site-packages\\rl\\memory.py:37: UserWarning: Not enough entries to sample without replacement. Consider increasing your warm-up phase to avoid oversampling!\n",
      "  warnings.warn('Not enough entries to sample without replacement. Consider increasing your warm-up phase to avoid oversampling!')\n",
      "C:\\Users\\Arghz\\miniconda3\\envs\\Keras\\lib\\site-packages\\rl\\memory.py:38: DeprecationWarning: This function is deprecated. Please call randint(1, 10 + 1) instead\n",
      "  batch_idxs = np.random.random_integers(low, high - 1, size=size)\n"
     ]
    },
    {
     "name": "stdout",
     "output_type": "stream",
     "text": [
      "   23/10000 [..............................] - ETA: 4:33 - reward: 1.0000"
     ]
    },
    {
     "name": "stderr",
     "output_type": "stream",
     "text": [
      "C:\\Users\\Arghz\\miniconda3\\envs\\Keras\\lib\\site-packages\\rl\\memory.py:38: DeprecationWarning: This function is deprecated. Please call randint(1, 11 + 1) instead\n",
      "  batch_idxs = np.random.random_integers(low, high - 1, size=size)\n",
      "C:\\Users\\Arghz\\miniconda3\\envs\\Keras\\lib\\site-packages\\rl\\memory.py:38: DeprecationWarning: This function is deprecated. Please call randint(1, 12 + 1) instead\n",
      "  batch_idxs = np.random.random_integers(low, high - 1, size=size)\n",
      "C:\\Users\\Arghz\\miniconda3\\envs\\Keras\\lib\\site-packages\\rl\\memory.py:38: DeprecationWarning: This function is deprecated. Please call randint(1, 13 + 1) instead\n",
      "  batch_idxs = np.random.random_integers(low, high - 1, size=size)\n",
      "C:\\Users\\Arghz\\miniconda3\\envs\\Keras\\lib\\site-packages\\rl\\memory.py:38: DeprecationWarning: This function is deprecated. Please call randint(1, 14 + 1) instead\n",
      "  batch_idxs = np.random.random_integers(low, high - 1, size=size)\n",
      "C:\\Users\\Arghz\\miniconda3\\envs\\Keras\\lib\\site-packages\\rl\\memory.py:38: DeprecationWarning: This function is deprecated. Please call randint(1, 15 + 1) instead\n",
      "  batch_idxs = np.random.random_integers(low, high - 1, size=size)\n",
      "C:\\Users\\Arghz\\miniconda3\\envs\\Keras\\lib\\site-packages\\rl\\memory.py:38: DeprecationWarning: This function is deprecated. Please call randint(1, 16 + 1) instead\n",
      "  batch_idxs = np.random.random_integers(low, high - 1, size=size)\n",
      "C:\\Users\\Arghz\\miniconda3\\envs\\Keras\\lib\\site-packages\\rl\\memory.py:38: DeprecationWarning: This function is deprecated. Please call randint(1, 17 + 1) instead\n",
      "  batch_idxs = np.random.random_integers(low, high - 1, size=size)\n",
      "C:\\Users\\Arghz\\miniconda3\\envs\\Keras\\lib\\site-packages\\rl\\memory.py:38: DeprecationWarning: This function is deprecated. Please call randint(1, 18 + 1) instead\n",
      "  batch_idxs = np.random.random_integers(low, high - 1, size=size)\n",
      "C:\\Users\\Arghz\\miniconda3\\envs\\Keras\\lib\\site-packages\\rl\\memory.py:38: DeprecationWarning: This function is deprecated. Please call randint(1, 19 + 1) instead\n",
      "  batch_idxs = np.random.random_integers(low, high - 1, size=size)\n",
      "C:\\Users\\Arghz\\miniconda3\\envs\\Keras\\lib\\site-packages\\rl\\memory.py:38: DeprecationWarning: This function is deprecated. Please call randint(1, 20 + 1) instead\n",
      "  batch_idxs = np.random.random_integers(low, high - 1, size=size)\n",
      "C:\\Users\\Arghz\\miniconda3\\envs\\Keras\\lib\\site-packages\\rl\\memory.py:38: DeprecationWarning: This function is deprecated. Please call randint(1, 21 + 1) instead\n",
      "  batch_idxs = np.random.random_integers(low, high - 1, size=size)\n",
      "C:\\Users\\Arghz\\miniconda3\\envs\\Keras\\lib\\site-packages\\rl\\memory.py:38: DeprecationWarning: This function is deprecated. Please call randint(1, 22 + 1) instead\n",
      "  batch_idxs = np.random.random_integers(low, high - 1, size=size)\n"
     ]
    },
    {
     "name": "stdout",
     "output_type": "stream",
     "text": [
      "   34/10000 [..............................] - ETA: 3:51 - reward: 1.0000"
     ]
    },
    {
     "name": "stderr",
     "output_type": "stream",
     "text": [
      "C:\\Users\\Arghz\\miniconda3\\envs\\Keras\\lib\\site-packages\\rl\\memory.py:38: DeprecationWarning: This function is deprecated. Please call randint(1, 23 + 1) instead\n",
      "  batch_idxs = np.random.random_integers(low, high - 1, size=size)\n",
      "C:\\Users\\Arghz\\miniconda3\\envs\\Keras\\lib\\site-packages\\rl\\memory.py:38: DeprecationWarning: This function is deprecated. Please call randint(1, 24 + 1) instead\n",
      "  batch_idxs = np.random.random_integers(low, high - 1, size=size)\n",
      "C:\\Users\\Arghz\\miniconda3\\envs\\Keras\\lib\\site-packages\\rl\\memory.py:38: DeprecationWarning: This function is deprecated. Please call randint(1, 25 + 1) instead\n",
      "  batch_idxs = np.random.random_integers(low, high - 1, size=size)\n",
      "C:\\Users\\Arghz\\miniconda3\\envs\\Keras\\lib\\site-packages\\rl\\memory.py:38: DeprecationWarning: This function is deprecated. Please call randint(1, 26 + 1) instead\n",
      "  batch_idxs = np.random.random_integers(low, high - 1, size=size)\n",
      "C:\\Users\\Arghz\\miniconda3\\envs\\Keras\\lib\\site-packages\\rl\\memory.py:38: DeprecationWarning: This function is deprecated. Please call randint(1, 27 + 1) instead\n",
      "  batch_idxs = np.random.random_integers(low, high - 1, size=size)\n",
      "C:\\Users\\Arghz\\miniconda3\\envs\\Keras\\lib\\site-packages\\rl\\memory.py:38: DeprecationWarning: This function is deprecated. Please call randint(1, 28 + 1) instead\n",
      "  batch_idxs = np.random.random_integers(low, high - 1, size=size)\n",
      "C:\\Users\\Arghz\\miniconda3\\envs\\Keras\\lib\\site-packages\\rl\\memory.py:38: DeprecationWarning: This function is deprecated. Please call randint(1, 29 + 1) instead\n",
      "  batch_idxs = np.random.random_integers(low, high - 1, size=size)\n",
      "C:\\Users\\Arghz\\miniconda3\\envs\\Keras\\lib\\site-packages\\rl\\memory.py:38: DeprecationWarning: This function is deprecated. Please call randint(1, 30 + 1) instead\n",
      "  batch_idxs = np.random.random_integers(low, high - 1, size=size)\n",
      "C:\\Users\\Arghz\\miniconda3\\envs\\Keras\\lib\\site-packages\\rl\\memory.py:38: DeprecationWarning: This function is deprecated. Please call randint(1, 31 + 1) instead\n",
      "  batch_idxs = np.random.random_integers(low, high - 1, size=size)\n"
     ]
    },
    {
     "name": "stdout",
     "output_type": "stream",
     "text": [
      "10000/10000 [==============================] - 135s 13ms/step - reward: 1.0000\n",
      "102 episodes - episode_reward: 96.931 [9.000, 360.000] - loss: 2.884 - mae: 20.567 - mean_q: 41.773\n",
      "\n",
      "Interval 2 (10000 steps performed)\n",
      "10000/10000 [==============================] - 131s 13ms/step - reward: 1.0000\n",
      "39 episodes - episode_reward: 255.231 [192.000, 500.000] - loss: 5.117 - mae: 45.274 - mean_q: 91.576\n",
      "\n",
      "Interval 3 (20000 steps performed)\n",
      "10000/10000 [==============================] - 152s 15ms/step - reward: 1.0000\n",
      "38 episodes - episode_reward: 263.868 [182.000, 432.000] - loss: 4.286 - mae: 48.782 - mean_q: 98.250\n",
      "\n",
      "Interval 4 (30000 steps performed)\n",
      "10000/10000 [==============================] - 142s 14ms/step - reward: 1.0000\n",
      "36 episodes - episode_reward: 276.083 [186.000, 450.000] - loss: 3.785 - mae: 51.315 - mean_q: 103.155\n",
      "\n",
      "Interval 5 (40000 steps performed)\n",
      "10000/10000 [==============================] - 135s 14ms/step - reward: 1.0000\n",
      "done, took 694.961 seconds\n"
     ]
    },
    {
     "data": {
      "text/plain": [
       "<keras.callbacks.History at 0x23d4f15ee30>"
      ]
     },
     "execution_count": 28,
     "metadata": {},
     "output_type": "execute_result"
    }
   ],
   "source": [
    "dqn = build_agent(model, actions)\n",
    "dqn.compile(Adam(learning_rate=1e-3), metrics=['mae'])\n",
    "dqn.fit(env, nb_steps=50000, visualize=False, verbose=1)"
   ]
  },
  {
   "cell_type": "code",
   "execution_count": 29,
   "id": "b23fcf56-d1e3-42bb-83bb-a0506f5867e6",
   "metadata": {},
   "outputs": [
    {
     "name": "stdout",
     "output_type": "stream",
     "text": [
      "Testing for 100 episodes ...\n",
      "Episode 1: reward: 257.000, steps: 257\n",
      "Episode 2: reward: 238.000, steps: 238\n",
      "Episode 3: reward: 239.000, steps: 239\n",
      "Episode 4: reward: 214.000, steps: 214\n",
      "Episode 5: reward: 215.000, steps: 215\n",
      "Episode 6: reward: 237.000, steps: 237\n",
      "Episode 7: reward: 213.000, steps: 213\n",
      "Episode 8: reward: 249.000, steps: 249\n",
      "Episode 9: reward: 246.000, steps: 246\n",
      "Episode 10: reward: 235.000, steps: 235\n",
      "Episode 11: reward: 215.000, steps: 215\n",
      "Episode 12: reward: 255.000, steps: 255\n",
      "Episode 13: reward: 236.000, steps: 236\n",
      "Episode 14: reward: 246.000, steps: 246\n",
      "Episode 15: reward: 213.000, steps: 213\n",
      "Episode 16: reward: 252.000, steps: 252\n",
      "Episode 17: reward: 231.000, steps: 231\n",
      "Episode 18: reward: 233.000, steps: 233\n",
      "Episode 19: reward: 265.000, steps: 265\n",
      "Episode 20: reward: 254.000, steps: 254\n",
      "Episode 21: reward: 244.000, steps: 244\n",
      "Episode 22: reward: 228.000, steps: 228\n",
      "Episode 23: reward: 239.000, steps: 239\n",
      "Episode 24: reward: 243.000, steps: 243\n",
      "Episode 25: reward: 206.000, steps: 206\n",
      "Episode 26: reward: 233.000, steps: 233\n",
      "Episode 27: reward: 239.000, steps: 239\n",
      "Episode 28: reward: 209.000, steps: 209\n",
      "Episode 29: reward: 243.000, steps: 243\n",
      "Episode 30: reward: 230.000, steps: 230\n",
      "Episode 31: reward: 248.000, steps: 248\n",
      "Episode 32: reward: 196.000, steps: 196\n",
      "Episode 33: reward: 235.000, steps: 235\n",
      "Episode 34: reward: 212.000, steps: 212\n",
      "Episode 35: reward: 244.000, steps: 244\n",
      "Episode 36: reward: 235.000, steps: 235\n",
      "Episode 37: reward: 234.000, steps: 234\n",
      "Episode 38: reward: 225.000, steps: 225\n",
      "Episode 39: reward: 226.000, steps: 226\n",
      "Episode 40: reward: 234.000, steps: 234\n",
      "Episode 41: reward: 217.000, steps: 217\n",
      "Episode 42: reward: 259.000, steps: 259\n",
      "Episode 43: reward: 250.000, steps: 250\n",
      "Episode 44: reward: 236.000, steps: 236\n",
      "Episode 45: reward: 246.000, steps: 246\n",
      "Episode 46: reward: 253.000, steps: 253\n",
      "Episode 47: reward: 233.000, steps: 233\n",
      "Episode 48: reward: 239.000, steps: 239\n",
      "Episode 49: reward: 258.000, steps: 258\n",
      "Episode 50: reward: 223.000, steps: 223\n",
      "Episode 51: reward: 219.000, steps: 219\n",
      "Episode 52: reward: 237.000, steps: 237\n",
      "Episode 53: reward: 222.000, steps: 222\n",
      "Episode 54: reward: 216.000, steps: 216\n",
      "Episode 55: reward: 248.000, steps: 248\n",
      "Episode 56: reward: 240.000, steps: 240\n",
      "Episode 57: reward: 220.000, steps: 220\n",
      "Episode 58: reward: 221.000, steps: 221\n",
      "Episode 59: reward: 212.000, steps: 212\n",
      "Episode 60: reward: 227.000, steps: 227\n",
      "Episode 61: reward: 234.000, steps: 234\n",
      "Episode 62: reward: 247.000, steps: 247\n",
      "Episode 63: reward: 241.000, steps: 241\n",
      "Episode 64: reward: 231.000, steps: 231\n",
      "Episode 65: reward: 249.000, steps: 249\n",
      "Episode 66: reward: 240.000, steps: 240\n",
      "Episode 67: reward: 223.000, steps: 223\n",
      "Episode 68: reward: 235.000, steps: 235\n",
      "Episode 69: reward: 239.000, steps: 239\n",
      "Episode 70: reward: 237.000, steps: 237\n",
      "Episode 71: reward: 244.000, steps: 244\n",
      "Episode 72: reward: 225.000, steps: 225\n",
      "Episode 73: reward: 236.000, steps: 236\n",
      "Episode 74: reward: 211.000, steps: 211\n",
      "Episode 75: reward: 228.000, steps: 228\n",
      "Episode 76: reward: 214.000, steps: 214\n",
      "Episode 77: reward: 240.000, steps: 240\n",
      "Episode 78: reward: 239.000, steps: 239\n",
      "Episode 79: reward: 211.000, steps: 211\n",
      "Episode 80: reward: 261.000, steps: 261\n",
      "Episode 81: reward: 228.000, steps: 228\n",
      "Episode 82: reward: 230.000, steps: 230\n",
      "Episode 83: reward: 275.000, steps: 275\n",
      "Episode 84: reward: 238.000, steps: 238\n",
      "Episode 85: reward: 248.000, steps: 248\n",
      "Episode 86: reward: 216.000, steps: 216\n",
      "Episode 87: reward: 233.000, steps: 233\n",
      "Episode 88: reward: 199.000, steps: 199\n",
      "Episode 89: reward: 225.000, steps: 225\n",
      "Episode 90: reward: 226.000, steps: 226\n",
      "Episode 91: reward: 234.000, steps: 234\n",
      "Episode 92: reward: 235.000, steps: 235\n",
      "Episode 93: reward: 239.000, steps: 239\n",
      "Episode 94: reward: 224.000, steps: 224\n",
      "Episode 95: reward: 251.000, steps: 251\n",
      "Episode 96: reward: 227.000, steps: 227\n",
      "Episode 97: reward: 264.000, steps: 264\n",
      "Episode 98: reward: 214.000, steps: 214\n",
      "Episode 99: reward: 225.000, steps: 225\n",
      "Episode 100: reward: 207.000, steps: 207\n",
      "233.45\n"
     ]
    }
   ],
   "source": [
    "scores = dqn.test(env, nb_episodes=100, visualize=False)\n",
    "print(np.mean(scores.history['episode_reward']))"
   ]
  },
  {
   "cell_type": "code",
   "execution_count": 30,
   "id": "91f4ac9a-6d2c-49f2-9f75-3043faf55ca0",
   "metadata": {},
   "outputs": [
    {
     "name": "stdout",
     "output_type": "stream",
     "text": [
      "Testing for 15 episodes ...\n",
      "Episode 1: reward: 227.000, steps: 227\n",
      "Episode 2: reward: 233.000, steps: 233\n",
      "Episode 3: reward: 231.000, steps: 231\n",
      "Episode 4: reward: 229.000, steps: 229\n",
      "Episode 5: reward: 216.000, steps: 216\n",
      "Episode 6: reward: 201.000, steps: 201\n",
      "Episode 7: reward: 241.000, steps: 241\n",
      "Episode 8: reward: 246.000, steps: 246\n",
      "Episode 9: reward: 214.000, steps: 214\n",
      "Episode 10: reward: 263.000, steps: 263\n",
      "Episode 11: reward: 224.000, steps: 224\n",
      "Episode 12: reward: 264.000, steps: 264\n",
      "Episode 13: reward: 221.000, steps: 221\n",
      "Episode 14: reward: 244.000, steps: 244\n",
      "Episode 15: reward: 226.000, steps: 226\n"
     ]
    }
   ],
   "source": [
    "_ = dqn.test(env, nb_episodes=15, visualize=True)"
   ]
  },
  {
   "cell_type": "markdown",
   "id": "f149e3a2-4d9d-4bdf-8f7a-817d5cf66783",
   "metadata": {},
   "source": [
    "4. Reloading Agent from Memory"
   ]
  },
  {
   "cell_type": "code",
   "execution_count": 31,
   "id": "075f2234-a32a-472d-8afe-3b13a74fb056",
   "metadata": {},
   "outputs": [],
   "source": [
    "dqn.save_weights('dqn_weights.h5f', overwrite=True)"
   ]
  },
  {
   "cell_type": "code",
   "execution_count": 32,
   "id": "61750e36-154e-43c8-a050-76720c1590a6",
   "metadata": {},
   "outputs": [],
   "source": [
    "del model\n",
    "del dqn\n",
    "del env"
   ]
  },
  {
   "cell_type": "code",
   "execution_count": 34,
   "id": "72fa6c6b-fb78-4ed8-ab77-18ceb6de17b9",
   "metadata": {},
   "outputs": [
    {
     "name": "stderr",
     "output_type": "stream",
     "text": [
      "C:\\Users\\Arghz\\miniconda3\\envs\\Keras\\lib\\site-packages\\gym\\utils\\passive_env_checker.py:97: UserWarning: \u001b[33mWARN: We recommend you to use a symmetric and normalized Box action space (range=[-1, 1]) https://stable-baselines3.readthedocs.io/en/master/guide/rl_tips.html\u001b[0m\n",
      "  logger.warn(\n"
     ]
    }
   ],
   "source": [
    "env = gym.make('CartPole-v1')\n",
    "actions = env.action_space.n\n",
    "states = env.observation_space.shape[0]\n",
    "model = build_model(states, actions)\n",
    "dqn = build_agent(model, actions)\n",
    "dqn.compile(Adam(learning_rate=1e-3), metrics=['mae'])"
   ]
  },
  {
   "cell_type": "code",
   "execution_count": 35,
   "id": "e69b8b9c-ac9c-40ef-bdce-01cc9520e164",
   "metadata": {},
   "outputs": [],
   "source": [
    "dqn.load_weights('dqn_weights.h5f')"
   ]
  },
  {
   "cell_type": "code",
   "execution_count": 36,
   "id": "85762fe7-8ac9-43ac-b9fe-5fe75791015a",
   "metadata": {},
   "outputs": [
    {
     "name": "stdout",
     "output_type": "stream",
     "text": [
      "Testing for 5 episodes ...\n"
     ]
    },
    {
     "name": "stderr",
     "output_type": "stream",
     "text": [
      "C:\\Users\\Arghz\\miniconda3\\envs\\Keras\\lib\\site-packages\\keras\\engine\\training_v1.py:2067: UserWarning: `Model.state_updates` will be removed in a future version. This property should not be used in TensorFlow 2.0, as `updates` are applied automatically.\n",
      "  updates=self.state_updates,\n"
     ]
    },
    {
     "name": "stdout",
     "output_type": "stream",
     "text": [
      "Episode 1: reward: 250.000, steps: 250\n",
      "Episode 2: reward: 260.000, steps: 260\n",
      "Episode 3: reward: 242.000, steps: 242\n",
      "Episode 4: reward: 260.000, steps: 260\n",
      "Episode 5: reward: 208.000, steps: 208\n"
     ]
    }
   ],
   "source": [
    "_ = dqn.test(env, nb_episodes=5, visualize=True)"
   ]
  },
  {
   "cell_type": "code",
   "execution_count": null,
   "id": "86479584-2eaf-40e0-ae20-303d9ac19d3b",
   "metadata": {},
   "outputs": [],
   "source": []
  }
 ],
 "metadata": {
  "kernelspec": {
   "display_name": "Python 3 (ipykernel)",
   "language": "python",
   "name": "python3"
  },
  "language_info": {
   "codemirror_mode": {
    "name": "ipython",
    "version": 3
   },
   "file_extension": ".py",
   "mimetype": "text/x-python",
   "name": "python",
   "nbconvert_exporter": "python",
   "pygments_lexer": "ipython3",
   "version": "3.10.4"
  }
 },
 "nbformat": 4,
 "nbformat_minor": 5
}
