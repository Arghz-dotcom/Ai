{
 "cells": [
  {
   "cell_type": "markdown",
   "id": "d3a3e99b-518f-439f-82fe-4d98e687b7ab",
   "metadata": {},
   "source": [
    "1. Setup Mario\n"
   ]
  },
  {
   "cell_type": "code",
   "execution_count": 8,
   "id": "73ed26fd-8b33-4ad1-97bd-2aa3c91aefdd",
   "metadata": {},
   "outputs": [
    {
     "name": "stdout",
     "output_type": "stream",
     "text": [
      "Collecting gym_super_mario_bros==7.3.0\n",
      "  Using cached gym_super_mario_bros-7.3.0-py2.py3-none-any.whl (198 kB)\n",
      "Requirement already satisfied: nes_py in c:\\users\\arghz\\miniconda3\\envs\\pytorch\\lib\\site-packages (8.2.1)\n",
      "Requirement already satisfied: pyglet<=1.5.21,>=1.4.0 in c:\\users\\arghz\\miniconda3\\envs\\pytorch\\lib\\site-packages (from nes_py) (1.5.21)\n",
      "Requirement already satisfied: gym>=0.17.2 in c:\\users\\arghz\\miniconda3\\envs\\pytorch\\lib\\site-packages (from nes_py) (0.25.0)\n",
      "Requirement already satisfied: tqdm>=4.48.2 in c:\\users\\arghz\\miniconda3\\envs\\pytorch\\lib\\site-packages (from nes_py) (4.64.0)\n",
      "Requirement already satisfied: numpy>=1.18.5 in c:\\users\\arghz\\miniconda3\\envs\\pytorch\\lib\\site-packages (from nes_py) (1.23.1)\n",
      "Requirement already satisfied: importlib-metadata>=4.8.0 in c:\\users\\arghz\\miniconda3\\envs\\pytorch\\lib\\site-packages (from gym>=0.17.2->nes_py) (4.11.4)\n",
      "Requirement already satisfied: cloudpickle>=1.2.0 in c:\\users\\arghz\\miniconda3\\envs\\pytorch\\lib\\site-packages (from gym>=0.17.2->nes_py) (2.1.0)\n",
      "Requirement already satisfied: gym-notices>=0.0.4 in c:\\users\\arghz\\miniconda3\\envs\\pytorch\\lib\\site-packages (from gym>=0.17.2->nes_py) (0.0.7)\n",
      "Requirement already satisfied: colorama in c:\\users\\arghz\\miniconda3\\envs\\pytorch\\lib\\site-packages (from tqdm>=4.48.2->nes_py) (0.4.5)\n",
      "Requirement already satisfied: zipp>=0.5 in c:\\users\\arghz\\miniconda3\\envs\\pytorch\\lib\\site-packages (from importlib-metadata>=4.8.0->gym>=0.17.2->nes_py) (3.8.0)\n",
      "Installing collected packages: gym_super_mario_bros\n",
      "  Attempting uninstall: gym_super_mario_bros\n",
      "    Found existing installation: gym-super-mario-bros 7.4.0\n",
      "    Uninstalling gym-super-mario-bros-7.4.0:\n",
      "      Successfully uninstalled gym-super-mario-bros-7.4.0\n",
      "Successfully installed gym_super_mario_bros-7.3.0\n"
     ]
    }
   ],
   "source": [
    "\n",
    "!pip install gym_super_mario_bros==7.3.0 nes_py"
   ]
  },
  {
   "cell_type": "code",
   "execution_count": 14,
   "id": "b855ab35-70da-42d3-a79e-5a4cefac0bfa",
   "metadata": {},
   "outputs": [
    {
     "name": "stdout",
     "output_type": "stream",
     "text": [
      "Requirement already satisfied: gym-super-mario-bros==7.3.0 in c:\\users\\arghz\\miniconda3\\envs\\pytorch\\lib\\site-packages (7.3.0)\n",
      "Requirement already satisfied: nes-py>=8.0.0 in c:\\users\\arghz\\miniconda3\\envs\\pytorch\\lib\\site-packages (from gym-super-mario-bros==7.3.0) (8.2.1)\n",
      "Requirement already satisfied: pyglet<=1.5.21,>=1.4.0 in c:\\users\\arghz\\miniconda3\\envs\\pytorch\\lib\\site-packages (from nes-py>=8.0.0->gym-super-mario-bros==7.3.0) (1.5.21)\n",
      "Requirement already satisfied: tqdm>=4.48.2 in c:\\users\\arghz\\miniconda3\\envs\\pytorch\\lib\\site-packages (from nes-py>=8.0.0->gym-super-mario-bros==7.3.0) (4.64.0)\n",
      "Requirement already satisfied: gym>=0.17.2 in c:\\users\\arghz\\miniconda3\\envs\\pytorch\\lib\\site-packages (from nes-py>=8.0.0->gym-super-mario-bros==7.3.0) (0.25.0)\n",
      "Requirement already satisfied: numpy>=1.18.5 in c:\\users\\arghz\\miniconda3\\envs\\pytorch\\lib\\site-packages (from nes-py>=8.0.0->gym-super-mario-bros==7.3.0) (1.23.1)\n",
      "Requirement already satisfied: importlib-metadata>=4.8.0 in c:\\users\\arghz\\miniconda3\\envs\\pytorch\\lib\\site-packages (from gym>=0.17.2->nes-py>=8.0.0->gym-super-mario-bros==7.3.0) (4.11.4)\n",
      "Requirement already satisfied: cloudpickle>=1.2.0 in c:\\users\\arghz\\miniconda3\\envs\\pytorch\\lib\\site-packages (from gym>=0.17.2->nes-py>=8.0.0->gym-super-mario-bros==7.3.0) (2.1.0)\n",
      "Requirement already satisfied: gym-notices>=0.0.4 in c:\\users\\arghz\\miniconda3\\envs\\pytorch\\lib\\site-packages (from gym>=0.17.2->nes-py>=8.0.0->gym-super-mario-bros==7.3.0) (0.0.7)\n",
      "Requirement already satisfied: colorama in c:\\users\\arghz\\miniconda3\\envs\\pytorch\\lib\\site-packages (from tqdm>=4.48.2->nes-py>=8.0.0->gym-super-mario-bros==7.3.0) (0.4.5)\n",
      "Requirement already satisfied: zipp>=0.5 in c:\\users\\arghz\\miniconda3\\envs\\pytorch\\lib\\site-packages (from importlib-metadata>=4.8.0->gym>=0.17.2->nes-py>=8.0.0->gym-super-mario-bros==7.3.0) (3.8.0)\n"
     ]
    },
    {
     "name": "stderr",
     "output_type": "stream",
     "text": [
      "C:\\Users\\Arghz\\miniconda3\\envs\\Pytorch\\lib\\site-packages\\tqdm\\auto.py:22: TqdmWarning: IProgress not found. Please update jupyter and ipywidgets. See https://ipywidgets.readthedocs.io/en/stable/user_install.html\n",
      "  from .autonotebook import tqdm as notebook_tqdm\n"
     ]
    }
   ],
   "source": [
    "!pip install gym-super-mario-bros==7.3.0\n",
    "\n",
    "import torch\n",
    "from torch import nn\n",
    "from torchvision import transforms as T\n",
    "from PIL import Image\n",
    "import numpy as np\n",
    "from pathlib import Path\n",
    "from collections import deque\n",
    "import random, datetime, os, copy\n",
    "\n",
    "# Gym is an OpenAI toolkit for RL\n",
    "import gym\n",
    "from gym.spaces import Box\n",
    "from gym.wrappers import FrameStack\n",
    "\n",
    "# NES Emulator for OpenAI Gym\n",
    "from nes_py.wrappers import JoypadSpace\n",
    "\n",
    "# Super Mario environment for OpenAI Gym\n",
    "import gym_super_mario_bros"
   ]
  },
  {
   "cell_type": "code",
   "execution_count": 15,
   "id": "1d75201c-8ee7-4518-aa04-a34ac54a5f62",
   "metadata": {},
   "outputs": [
    {
     "name": "stderr",
     "output_type": "stream",
     "text": [
      "C:\\Users\\Arghz\\miniconda3\\envs\\Pytorch\\lib\\site-packages\\gym\\envs\\registration.py:592: UserWarning: \u001b[33mWARN: The environment SuperMarioBros-1-1-v0 is out of date. You should consider upgrading to version `v3`.\u001b[0m\n",
      "  logger.warn(\n"
     ]
    },
    {
     "ename": "KeyError",
     "evalue": "'render_modes'",
     "output_type": "error",
     "traceback": [
      "\u001b[1;31m---------------------------------------------------------------------------\u001b[0m",
      "\u001b[1;31mKeyError\u001b[0m                                  Traceback (most recent call last)",
      "Input \u001b[1;32mIn [15]\u001b[0m, in \u001b[0;36m<cell line: 2>\u001b[1;34m()\u001b[0m\n\u001b[0;32m      1\u001b[0m \u001b[38;5;66;03m# Initialize Super Mario environment\u001b[39;00m\n\u001b[1;32m----> 2\u001b[0m env \u001b[38;5;241m=\u001b[39m \u001b[43mgym_super_mario_bros\u001b[49m\u001b[38;5;241;43m.\u001b[39;49m\u001b[43mmake\u001b[49m\u001b[43m(\u001b[49m\u001b[38;5;124;43m\"\u001b[39;49m\u001b[38;5;124;43mSuperMarioBros-1-1-v0\u001b[39;49m\u001b[38;5;124;43m\"\u001b[39;49m\u001b[43m)\u001b[49m\n\u001b[0;32m      4\u001b[0m \u001b[38;5;66;03m# Limit the action-space to\u001b[39;00m\n\u001b[0;32m      5\u001b[0m \u001b[38;5;66;03m#   0. walk right\u001b[39;00m\n\u001b[0;32m      6\u001b[0m \u001b[38;5;66;03m#   1. jump right\u001b[39;00m\n\u001b[0;32m      7\u001b[0m env \u001b[38;5;241m=\u001b[39m JoypadSpace(env, [[\u001b[38;5;124m\"\u001b[39m\u001b[38;5;124mright\u001b[39m\u001b[38;5;124m\"\u001b[39m], [\u001b[38;5;124m\"\u001b[39m\u001b[38;5;124mright\u001b[39m\u001b[38;5;124m\"\u001b[39m, \u001b[38;5;124m\"\u001b[39m\u001b[38;5;124mA\u001b[39m\u001b[38;5;124m\"\u001b[39m]])\n",
      "File \u001b[1;32m~\\miniconda3\\envs\\Pytorch\\lib\\site-packages\\gym\\envs\\registration.py:625\u001b[0m, in \u001b[0;36mmake\u001b[1;34m(id, max_episode_steps, autoreset, new_step_api, disable_env_checker, **kwargs)\u001b[0m\n\u001b[0;32m    623\u001b[0m \u001b[38;5;66;03m# If we have access to metadata we check that \"render_mode\" is valid\u001b[39;00m\n\u001b[0;32m    624\u001b[0m \u001b[38;5;28;01mif\u001b[39;00m \u001b[38;5;28mhasattr\u001b[39m(env_creator, \u001b[38;5;124m\"\u001b[39m\u001b[38;5;124mmetadata\u001b[39m\u001b[38;5;124m\"\u001b[39m):\n\u001b[1;32m--> 625\u001b[0m     render_modes \u001b[38;5;241m=\u001b[39m \u001b[43menv_creator\u001b[49m\u001b[38;5;241;43m.\u001b[39;49m\u001b[43mmetadata\u001b[49m\u001b[43m[\u001b[49m\u001b[38;5;124;43m\"\u001b[39;49m\u001b[38;5;124;43mrender_modes\u001b[39;49m\u001b[38;5;124;43m\"\u001b[39;49m\u001b[43m]\u001b[49m\n\u001b[0;32m    627\u001b[0m     \u001b[38;5;66;03m# We might be able to fall back to the HumanRendering wrapper if 'human' rendering is not supported natively\u001b[39;00m\n\u001b[0;32m    628\u001b[0m     \u001b[38;5;28;01mif\u001b[39;00m (\n\u001b[0;32m    629\u001b[0m         mode \u001b[38;5;241m==\u001b[39m \u001b[38;5;124m\"\u001b[39m\u001b[38;5;124mhuman\u001b[39m\u001b[38;5;124m\"\u001b[39m\n\u001b[0;32m    630\u001b[0m         \u001b[38;5;129;01mand\u001b[39;00m \u001b[38;5;124m\"\u001b[39m\u001b[38;5;124mhuman\u001b[39m\u001b[38;5;124m\"\u001b[39m \u001b[38;5;129;01mnot\u001b[39;00m \u001b[38;5;129;01min\u001b[39;00m render_modes\n\u001b[0;32m    631\u001b[0m         \u001b[38;5;129;01mand\u001b[39;00m (\u001b[38;5;124m\"\u001b[39m\u001b[38;5;124msingle_rgb_array\u001b[39m\u001b[38;5;124m\"\u001b[39m \u001b[38;5;129;01min\u001b[39;00m render_modes \u001b[38;5;129;01mor\u001b[39;00m \u001b[38;5;124m\"\u001b[39m\u001b[38;5;124mrgb_array\u001b[39m\u001b[38;5;124m\"\u001b[39m \u001b[38;5;129;01min\u001b[39;00m render_modes)\n\u001b[0;32m    632\u001b[0m     ):\n",
      "\u001b[1;31mKeyError\u001b[0m: 'render_modes'"
     ]
    }
   ],
   "source": [
    "# Initialize Super Mario environment\n",
    "env = gym_super_mario_bros.make(\"SuperMarioBros-1-1-v0\")\n",
    "\n",
    "# Limit the action-space to\n",
    "#   0. walk right\n",
    "#   1. jump right\n",
    "env = JoypadSpace(env, [[\"right\"], [\"right\", \"A\"]])\n",
    "\n",
    "env.reset()\n",
    "next_state, reward, done, info = env.step(action=0)\n",
    "print(f\"{next_state.shape},\\n {reward},\\n {done},\\n {info}\")"
   ]
  },
  {
   "cell_type": "code",
   "execution_count": null,
   "id": "b1135ac1-48e7-4bfc-9f5b-76ff0ca5814f",
   "metadata": {},
   "outputs": [],
   "source": []
  }
 ],
 "metadata": {
  "kernelspec": {
   "display_name": "Python 3 (ipykernel)",
   "language": "python",
   "name": "python3"
  },
  "language_info": {
   "codemirror_mode": {
    "name": "ipython",
    "version": 3
   },
   "file_extension": ".py",
   "mimetype": "text/x-python",
   "name": "python",
   "nbconvert_exporter": "python",
   "pygments_lexer": "ipython3",
   "version": "3.8.13"
  }
 },
 "nbformat": 4,
 "nbformat_minor": 5
}
