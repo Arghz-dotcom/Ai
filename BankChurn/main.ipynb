{
 "cells": [
  {
   "cell_type": "markdown",
   "metadata": {},
   "source": [
    "# Bank churn prediction"
   ]
  },
  {
   "cell_type": "code",
   "execution_count": 2,
   "metadata": {},
   "outputs": [],
   "source": [
    "import pandas as pd\n",
    "bank_df = pd.read_csv(\"Churn_Modelling.csv\")"
   ]
  },
  {
   "cell_type": "code",
   "execution_count": 3,
   "metadata": {},
   "outputs": [
    {
     "data": {
      "text/html": [
       "<div>\n",
       "<style scoped>\n",
       "    .dataframe tbody tr th:only-of-type {\n",
       "        vertical-align: middle;\n",
       "    }\n",
       "\n",
       "    .dataframe tbody tr th {\n",
       "        vertical-align: top;\n",
       "    }\n",
       "\n",
       "    .dataframe thead th {\n",
       "        text-align: right;\n",
       "    }\n",
       "</style>\n",
       "<table border=\"1\" class=\"dataframe\">\n",
       "  <thead>\n",
       "    <tr style=\"text-align: right;\">\n",
       "      <th></th>\n",
       "      <th>RowNumber</th>\n",
       "      <th>CustomerId</th>\n",
       "      <th>Surname</th>\n",
       "      <th>CreditScore</th>\n",
       "      <th>Geography</th>\n",
       "      <th>Gender</th>\n",
       "      <th>Age</th>\n",
       "      <th>Tenure</th>\n",
       "      <th>Balance</th>\n",
       "      <th>NumOfProducts</th>\n",
       "      <th>HasCrCard</th>\n",
       "      <th>IsActiveMember</th>\n",
       "      <th>EstimatedSalary</th>\n",
       "      <th>Exited</th>\n",
       "    </tr>\n",
       "  </thead>\n",
       "  <tbody>\n",
       "    <tr>\n",
       "      <th>0</th>\n",
       "      <td>1</td>\n",
       "      <td>15634602</td>\n",
       "      <td>Hargrave</td>\n",
       "      <td>619</td>\n",
       "      <td>France</td>\n",
       "      <td>Female</td>\n",
       "      <td>42</td>\n",
       "      <td>2</td>\n",
       "      <td>0.00</td>\n",
       "      <td>1</td>\n",
       "      <td>1</td>\n",
       "      <td>1</td>\n",
       "      <td>101348.88</td>\n",
       "      <td>1</td>\n",
       "    </tr>\n",
       "    <tr>\n",
       "      <th>1</th>\n",
       "      <td>2</td>\n",
       "      <td>15647311</td>\n",
       "      <td>Hill</td>\n",
       "      <td>608</td>\n",
       "      <td>Spain</td>\n",
       "      <td>Female</td>\n",
       "      <td>41</td>\n",
       "      <td>1</td>\n",
       "      <td>83807.86</td>\n",
       "      <td>1</td>\n",
       "      <td>0</td>\n",
       "      <td>1</td>\n",
       "      <td>112542.58</td>\n",
       "      <td>0</td>\n",
       "    </tr>\n",
       "    <tr>\n",
       "      <th>2</th>\n",
       "      <td>3</td>\n",
       "      <td>15619304</td>\n",
       "      <td>Onio</td>\n",
       "      <td>502</td>\n",
       "      <td>France</td>\n",
       "      <td>Female</td>\n",
       "      <td>42</td>\n",
       "      <td>8</td>\n",
       "      <td>159660.80</td>\n",
       "      <td>3</td>\n",
       "      <td>1</td>\n",
       "      <td>0</td>\n",
       "      <td>113931.57</td>\n",
       "      <td>1</td>\n",
       "    </tr>\n",
       "    <tr>\n",
       "      <th>3</th>\n",
       "      <td>4</td>\n",
       "      <td>15701354</td>\n",
       "      <td>Boni</td>\n",
       "      <td>699</td>\n",
       "      <td>France</td>\n",
       "      <td>Female</td>\n",
       "      <td>39</td>\n",
       "      <td>1</td>\n",
       "      <td>0.00</td>\n",
       "      <td>2</td>\n",
       "      <td>0</td>\n",
       "      <td>0</td>\n",
       "      <td>93826.63</td>\n",
       "      <td>0</td>\n",
       "    </tr>\n",
       "    <tr>\n",
       "      <th>4</th>\n",
       "      <td>5</td>\n",
       "      <td>15737888</td>\n",
       "      <td>Mitchell</td>\n",
       "      <td>850</td>\n",
       "      <td>Spain</td>\n",
       "      <td>Female</td>\n",
       "      <td>43</td>\n",
       "      <td>2</td>\n",
       "      <td>125510.82</td>\n",
       "      <td>1</td>\n",
       "      <td>1</td>\n",
       "      <td>1</td>\n",
       "      <td>79084.10</td>\n",
       "      <td>0</td>\n",
       "    </tr>\n",
       "  </tbody>\n",
       "</table>\n",
       "</div>"
      ],
      "text/plain": [
       "   RowNumber  CustomerId   Surname  CreditScore Geography  Gender  Age  \\\n",
       "0          1    15634602  Hargrave          619    France  Female   42   \n",
       "1          2    15647311      Hill          608     Spain  Female   41   \n",
       "2          3    15619304      Onio          502    France  Female   42   \n",
       "3          4    15701354      Boni          699    France  Female   39   \n",
       "4          5    15737888  Mitchell          850     Spain  Female   43   \n",
       "\n",
       "   Tenure    Balance  NumOfProducts  HasCrCard  IsActiveMember  \\\n",
       "0       2       0.00              1          1               1   \n",
       "1       1   83807.86              1          0               1   \n",
       "2       8  159660.80              3          1               0   \n",
       "3       1       0.00              2          0               0   \n",
       "4       2  125510.82              1          1               1   \n",
       "\n",
       "   EstimatedSalary  Exited  \n",
       "0        101348.88       1  \n",
       "1        112542.58       0  \n",
       "2        113931.57       1  \n",
       "3         93826.63       0  \n",
       "4         79084.10       0  "
      ]
     },
     "execution_count": 3,
     "metadata": {},
     "output_type": "execute_result"
    }
   ],
   "source": [
    "bank_df.head()"
   ]
  },
  {
   "cell_type": "code",
   "execution_count": 4,
   "metadata": {},
   "outputs": [],
   "source": [
    "bank_df.drop(columns=['RowNumber', \"CustomerId\", \"Surname\"], inplace=True)"
   ]
  },
  {
   "cell_type": "code",
   "execution_count": 5,
   "metadata": {},
   "outputs": [
    {
     "data": {
      "text/plain": [
       "CreditScore        0\n",
       "Geography          0\n",
       "Gender             0\n",
       "Age                0\n",
       "Tenure             0\n",
       "Balance            0\n",
       "NumOfProducts      0\n",
       "HasCrCard          0\n",
       "IsActiveMember     0\n",
       "EstimatedSalary    0\n",
       "Exited             0\n",
       "dtype: int64"
      ]
     },
     "execution_count": 5,
     "metadata": {},
     "output_type": "execute_result"
    }
   ],
   "source": [
    "bank_df.isna().sum()"
   ]
  },
  {
   "cell_type": "code",
   "execution_count": 6,
   "metadata": {},
   "outputs": [
    {
     "data": {
      "text/plain": [
       "array(['Female', 'Male'], dtype=object)"
      ]
     },
     "execution_count": 6,
     "metadata": {},
     "output_type": "execute_result"
    }
   ],
   "source": [
    "bank_df.Gender.unique()"
   ]
  },
  {
   "cell_type": "code",
   "execution_count": 7,
   "metadata": {},
   "outputs": [
    {
     "name": "stderr",
     "output_type": "stream",
     "text": [
      "C:\\Users\\domin\\AppData\\Local\\Temp\\ipykernel_11116\\2841390740.py:1: FutureWarning: A value is trying to be set on a copy of a DataFrame or Series through chained assignment using an inplace method.\n",
      "The behavior will change in pandas 3.0. This inplace method will never work because the intermediate object on which we are setting values always behaves as a copy.\n",
      "\n",
      "For example, when doing 'df[col].method(value, inplace=True)', try using 'df.method({col: value}, inplace=True)' or df[col] = df[col].method(value) instead, to perform the operation inplace on the original object.\n",
      "\n",
      "\n",
      "  bank_df.Gender.replace({'Female': 1, 'Male': 0}, inplace=True)\n",
      "C:\\Users\\domin\\AppData\\Local\\Temp\\ipykernel_11116\\2841390740.py:1: FutureWarning: Downcasting behavior in `replace` is deprecated and will be removed in a future version. To retain the old behavior, explicitly call `result.infer_objects(copy=False)`. To opt-in to the future behavior, set `pd.set_option('future.no_silent_downcasting', True)`\n",
      "  bank_df.Gender.replace({'Female': 1, 'Male': 0}, inplace=True)\n"
     ]
    }
   ],
   "source": [
    "bank_df.Gender.replace({'Female': 1, 'Male': 0}, inplace=True)"
   ]
  },
  {
   "cell_type": "code",
   "execution_count": 8,
   "metadata": {},
   "outputs": [
    {
     "data": {
      "text/plain": [
       "array([1, 0], dtype=int64)"
      ]
     },
     "execution_count": 8,
     "metadata": {},
     "output_type": "execute_result"
    }
   ],
   "source": [
    "bank_df.Gender.unique()"
   ]
  },
  {
   "cell_type": "code",
   "execution_count": 9,
   "metadata": {},
   "outputs": [
    {
     "data": {
      "text/plain": [
       "array(['France', 'Spain', 'Germany'], dtype=object)"
      ]
     },
     "execution_count": 9,
     "metadata": {},
     "output_type": "execute_result"
    }
   ],
   "source": [
    "bank_df.Geography.unique()"
   ]
  },
  {
   "cell_type": "code",
   "execution_count": 10,
   "metadata": {},
   "outputs": [],
   "source": [
    "bank_df = pd.get_dummies(data=bank_df, columns=['Geography']).astype(int)"
   ]
  },
  {
   "cell_type": "code",
   "execution_count": 11,
   "metadata": {},
   "outputs": [
    {
     "data": {
      "text/plain": [
       "CreditScore          int32\n",
       "Gender               int32\n",
       "Age                  int32\n",
       "Tenure               int32\n",
       "Balance              int32\n",
       "NumOfProducts        int32\n",
       "HasCrCard            int32\n",
       "IsActiveMember       int32\n",
       "EstimatedSalary      int32\n",
       "Exited               int32\n",
       "Geography_France     int32\n",
       "Geography_Germany    int32\n",
       "Geography_Spain      int32\n",
       "dtype: object"
      ]
     },
     "execution_count": 11,
     "metadata": {},
     "output_type": "execute_result"
    }
   ],
   "source": [
    "bank_df.dtypes"
   ]
  },
  {
   "cell_type": "code",
   "execution_count": 12,
   "metadata": {},
   "outputs": [],
   "source": [
    "# Dividing dataset\n",
    "X = bank_df.drop(columns=['Exited'])\n",
    "y = bank_df['Exited']"
   ]
  },
  {
   "cell_type": "code",
   "execution_count": 13,
   "metadata": {},
   "outputs": [
    {
     "data": {
      "text/plain": [
       "(10000, 12)"
      ]
     },
     "execution_count": 13,
     "metadata": {},
     "output_type": "execute_result"
    }
   ],
   "source": [
    "X.shape"
   ]
  },
  {
   "cell_type": "code",
   "execution_count": 14,
   "metadata": {},
   "outputs": [
    {
     "data": {
      "text/plain": [
       "Index(['CreditScore', 'Gender', 'Age', 'Tenure', 'Balance', 'NumOfProducts',\n",
       "       'HasCrCard', 'IsActiveMember', 'EstimatedSalary', 'Geography_France',\n",
       "       'Geography_Germany', 'Geography_Spain'],\n",
       "      dtype='object')"
      ]
     },
     "execution_count": 14,
     "metadata": {},
     "output_type": "execute_result"
    }
   ],
   "source": [
    "X.columns"
   ]
  },
  {
   "cell_type": "code",
   "execution_count": 29,
   "metadata": {},
   "outputs": [],
   "source": [
    "# SMOTE\n",
    "from imblearn.over_sampling import SMOTE\n",
    "smote = SMOTE(sampling_strategy='minority')\n",
    "X, y = smote.fit_resample(X, y)"
   ]
  },
  {
   "cell_type": "code",
   "execution_count": 30,
   "metadata": {},
   "outputs": [
    {
     "data": {
      "text/plain": [
       "(15926, 12)"
      ]
     },
     "execution_count": 30,
     "metadata": {},
     "output_type": "execute_result"
    }
   ],
   "source": [
    "X.shape"
   ]
  },
  {
   "cell_type": "code",
   "execution_count": 33,
   "metadata": {},
   "outputs": [
    {
     "data": {
      "text/plain": [
       "Exited\n",
       "1    7963\n",
       "0    7963\n",
       "Name: count, dtype: int64"
      ]
     },
     "execution_count": 33,
     "metadata": {},
     "output_type": "execute_result"
    }
   ],
   "source": [
    "y.value_counts()"
   ]
  },
  {
   "cell_type": "code",
   "execution_count": 34,
   "metadata": {},
   "outputs": [],
   "source": [
    "# data normalization\n",
    "from sklearn.preprocessing import MinMaxScaler\n",
    "scaler = MinMaxScaler()\n",
    "X[:] = scaler.fit_transform(X)\n"
   ]
  },
  {
   "cell_type": "code",
   "execution_count": 35,
   "metadata": {},
   "outputs": [
    {
     "data": {
      "text/html": [
       "<div>\n",
       "<style scoped>\n",
       "    .dataframe tbody tr th:only-of-type {\n",
       "        vertical-align: middle;\n",
       "    }\n",
       "\n",
       "    .dataframe tbody tr th {\n",
       "        vertical-align: top;\n",
       "    }\n",
       "\n",
       "    .dataframe thead th {\n",
       "        text-align: right;\n",
       "    }\n",
       "</style>\n",
       "<table border=\"1\" class=\"dataframe\">\n",
       "  <thead>\n",
       "    <tr style=\"text-align: right;\">\n",
       "      <th></th>\n",
       "      <th>CreditScore</th>\n",
       "      <th>Gender</th>\n",
       "      <th>Age</th>\n",
       "      <th>Tenure</th>\n",
       "      <th>Balance</th>\n",
       "      <th>NumOfProducts</th>\n",
       "      <th>HasCrCard</th>\n",
       "      <th>IsActiveMember</th>\n",
       "      <th>EstimatedSalary</th>\n",
       "      <th>Geography_France</th>\n",
       "      <th>Geography_Germany</th>\n",
       "      <th>Geography_Spain</th>\n",
       "    </tr>\n",
       "  </thead>\n",
       "  <tbody>\n",
       "    <tr>\n",
       "      <th>0</th>\n",
       "      <td>0.538</td>\n",
       "      <td>1</td>\n",
       "      <td>0.324324</td>\n",
       "      <td>0.2</td>\n",
       "      <td>0.000000</td>\n",
       "      <td>0.000000</td>\n",
       "      <td>1</td>\n",
       "      <td>1</td>\n",
       "      <td>0.506733</td>\n",
       "      <td>1</td>\n",
       "      <td>0</td>\n",
       "      <td>0</td>\n",
       "    </tr>\n",
       "    <tr>\n",
       "      <th>1</th>\n",
       "      <td>0.516</td>\n",
       "      <td>1</td>\n",
       "      <td>0.310811</td>\n",
       "      <td>0.1</td>\n",
       "      <td>0.334028</td>\n",
       "      <td>0.000000</td>\n",
       "      <td>0</td>\n",
       "      <td>1</td>\n",
       "      <td>0.562708</td>\n",
       "      <td>0</td>\n",
       "      <td>0</td>\n",
       "      <td>1</td>\n",
       "    </tr>\n",
       "    <tr>\n",
       "      <th>2</th>\n",
       "      <td>0.304</td>\n",
       "      <td>1</td>\n",
       "      <td>0.324324</td>\n",
       "      <td>0.8</td>\n",
       "      <td>0.636354</td>\n",
       "      <td>0.666667</td>\n",
       "      <td>1</td>\n",
       "      <td>0</td>\n",
       "      <td>0.569654</td>\n",
       "      <td>1</td>\n",
       "      <td>0</td>\n",
       "      <td>0</td>\n",
       "    </tr>\n",
       "    <tr>\n",
       "      <th>3</th>\n",
       "      <td>0.698</td>\n",
       "      <td>1</td>\n",
       "      <td>0.283784</td>\n",
       "      <td>0.1</td>\n",
       "      <td>0.000000</td>\n",
       "      <td>0.333333</td>\n",
       "      <td>0</td>\n",
       "      <td>0</td>\n",
       "      <td>0.469120</td>\n",
       "      <td>1</td>\n",
       "      <td>0</td>\n",
       "      <td>0</td>\n",
       "    </tr>\n",
       "    <tr>\n",
       "      <th>4</th>\n",
       "      <td>1.000</td>\n",
       "      <td>1</td>\n",
       "      <td>0.337838</td>\n",
       "      <td>0.2</td>\n",
       "      <td>0.500243</td>\n",
       "      <td>0.000000</td>\n",
       "      <td>1</td>\n",
       "      <td>1</td>\n",
       "      <td>0.395403</td>\n",
       "      <td>0</td>\n",
       "      <td>0</td>\n",
       "      <td>1</td>\n",
       "    </tr>\n",
       "  </tbody>\n",
       "</table>\n",
       "</div>"
      ],
      "text/plain": [
       "   CreditScore  Gender       Age  Tenure   Balance  NumOfProducts  HasCrCard  \\\n",
       "0        0.538       1  0.324324     0.2  0.000000       0.000000          1   \n",
       "1        0.516       1  0.310811     0.1  0.334028       0.000000          0   \n",
       "2        0.304       1  0.324324     0.8  0.636354       0.666667          1   \n",
       "3        0.698       1  0.283784     0.1  0.000000       0.333333          0   \n",
       "4        1.000       1  0.337838     0.2  0.500243       0.000000          1   \n",
       "\n",
       "   IsActiveMember  EstimatedSalary  Geography_France  Geography_Germany  \\\n",
       "0               1         0.506733                 1                  0   \n",
       "1               1         0.562708                 0                  0   \n",
       "2               0         0.569654                 1                  0   \n",
       "3               0         0.469120                 1                  0   \n",
       "4               1         0.395403                 0                  0   \n",
       "\n",
       "   Geography_Spain  \n",
       "0                0  \n",
       "1                1  \n",
       "2                0  \n",
       "3                0  \n",
       "4                1  "
      ]
     },
     "execution_count": 35,
     "metadata": {},
     "output_type": "execute_result"
    }
   ],
   "source": [
    "X.head()"
   ]
  },
  {
   "cell_type": "code",
   "execution_count": 36,
   "metadata": {},
   "outputs": [],
   "source": [
    "from sklearn.model_selection import train_test_split\n",
    "X_train, X_test, y_train, y_test = train_test_split(X, y, test_size=0.2, random_state=42)"
   ]
  },
  {
   "cell_type": "code",
   "execution_count": 37,
   "metadata": {},
   "outputs": [
    {
     "data": {
      "text/plain": [
       "((12740, 12), (3186, 12))"
      ]
     },
     "execution_count": 37,
     "metadata": {},
     "output_type": "execute_result"
    }
   ],
   "source": [
    "X_train.shape, X_test.shape"
   ]
  },
  {
   "cell_type": "code",
   "execution_count": 38,
   "metadata": {},
   "outputs": [],
   "source": [
    "# BUILDING THE MODEL\n",
    "import tensorflow as tf\n",
    "from tensorflow import keras\n",
    "\n",
    "model = keras.Sequential([\n",
    "    keras.layers.Dense(15, input_shape= (12,), activation= 'relu'),\n",
    "    keras.layers.Dense(10, activation='relu'),\n",
    "    keras.layers.Dense(5, activation='relu'),\n",
    "    keras.layers.Dense(1, activation='sigmoid'),\n",
    "    ])\n",
    "model.compile(optimizer='adam', loss='binary_crossentropy', metrics=['accuracy'])\n"
   ]
  },
  {
   "cell_type": "code",
   "execution_count": 39,
   "metadata": {},
   "outputs": [
    {
     "name": "stdout",
     "output_type": "stream",
     "text": [
      "Epoch 1/100\n",
      "255/255 [==============================] - 0s 865us/step - loss: 0.6793 - accuracy: 0.5764\n",
      "Epoch 2/100\n",
      "255/255 [==============================] - 0s 839us/step - loss: 0.6137 - accuracy: 0.6707\n",
      "Epoch 3/100\n",
      "255/255 [==============================] - 0s 773us/step - loss: 0.5634 - accuracy: 0.7150\n",
      "Epoch 4/100\n",
      "255/255 [==============================] - 0s 780us/step - loss: 0.5274 - accuracy: 0.7462\n",
      "Epoch 5/100\n",
      "255/255 [==============================] - 0s 764us/step - loss: 0.4994 - accuracy: 0.7616\n",
      "Epoch 6/100\n",
      "255/255 [==============================] - 0s 772us/step - loss: 0.4823 - accuracy: 0.7695\n",
      "Epoch 7/100\n",
      "255/255 [==============================] - 0s 780us/step - loss: 0.4749 - accuracy: 0.7704\n",
      "Epoch 8/100\n",
      "255/255 [==============================] - 0s 772us/step - loss: 0.4678 - accuracy: 0.7735\n",
      "Epoch 9/100\n",
      "255/255 [==============================] - 0s 784us/step - loss: 0.4628 - accuracy: 0.7754\n",
      "Epoch 10/100\n",
      "255/255 [==============================] - 0s 761us/step - loss: 0.4612 - accuracy: 0.7777\n",
      "Epoch 11/100\n",
      "255/255 [==============================] - 0s 886us/step - loss: 0.4570 - accuracy: 0.7774\n",
      "Epoch 12/100\n",
      "255/255 [==============================] - 0s 764us/step - loss: 0.4551 - accuracy: 0.7826\n",
      "Epoch 13/100\n",
      "255/255 [==============================] - 0s 796us/step - loss: 0.4530 - accuracy: 0.7842\n",
      "Epoch 14/100\n",
      "255/255 [==============================] - 0s 800us/step - loss: 0.4517 - accuracy: 0.7840\n",
      "Epoch 15/100\n",
      "255/255 [==============================] - 0s 768us/step - loss: 0.4499 - accuracy: 0.7876\n",
      "Epoch 16/100\n",
      "255/255 [==============================] - 0s 811us/step - loss: 0.4491 - accuracy: 0.7856\n",
      "Epoch 17/100\n",
      "255/255 [==============================] - 0s 787us/step - loss: 0.4487 - accuracy: 0.7867\n",
      "Epoch 18/100\n",
      "255/255 [==============================] - 0s 784us/step - loss: 0.4468 - accuracy: 0.7856\n",
      "Epoch 19/100\n",
      "255/255 [==============================] - 0s 780us/step - loss: 0.4478 - accuracy: 0.7870\n",
      "Epoch 20/100\n",
      "255/255 [==============================] - 0s 776us/step - loss: 0.4455 - accuracy: 0.7878\n",
      "Epoch 21/100\n",
      "255/255 [==============================] - 0s 786us/step - loss: 0.4467 - accuracy: 0.7850\n",
      "Epoch 22/100\n",
      "255/255 [==============================] - 0s 783us/step - loss: 0.4459 - accuracy: 0.7881\n",
      "Epoch 23/100\n",
      "255/255 [==============================] - 0s 789us/step - loss: 0.4458 - accuracy: 0.7877\n",
      "Epoch 24/100\n",
      "255/255 [==============================] - 0s 780us/step - loss: 0.4444 - accuracy: 0.7878\n",
      "Epoch 25/100\n",
      "255/255 [==============================] - 0s 776us/step - loss: 0.4456 - accuracy: 0.7885\n",
      "Epoch 26/100\n",
      "255/255 [==============================] - 0s 780us/step - loss: 0.4434 - accuracy: 0.7894\n",
      "Epoch 27/100\n",
      "255/255 [==============================] - 0s 787us/step - loss: 0.4430 - accuracy: 0.7919\n",
      "Epoch 28/100\n",
      "255/255 [==============================] - 0s 788us/step - loss: 0.4436 - accuracy: 0.7885\n",
      "Epoch 29/100\n",
      "255/255 [==============================] - 0s 760us/step - loss: 0.4419 - accuracy: 0.7916\n",
      "Epoch 30/100\n",
      "255/255 [==============================] - 0s 780us/step - loss: 0.4406 - accuracy: 0.7917\n",
      "Epoch 31/100\n",
      "255/255 [==============================] - 0s 776us/step - loss: 0.4414 - accuracy: 0.7903\n",
      "Epoch 32/100\n",
      "255/255 [==============================] - 0s 780us/step - loss: 0.4378 - accuracy: 0.7930\n",
      "Epoch 33/100\n",
      "255/255 [==============================] - 0s 799us/step - loss: 0.4381 - accuracy: 0.7907\n",
      "Epoch 34/100\n",
      "255/255 [==============================] - 0s 818us/step - loss: 0.4371 - accuracy: 0.7912\n",
      "Epoch 35/100\n",
      "255/255 [==============================] - 0s 780us/step - loss: 0.4371 - accuracy: 0.7933\n",
      "Epoch 36/100\n",
      "255/255 [==============================] - 0s 787us/step - loss: 0.4363 - accuracy: 0.7923\n",
      "Epoch 37/100\n",
      "255/255 [==============================] - 0s 787us/step - loss: 0.4357 - accuracy: 0.7936\n",
      "Epoch 38/100\n",
      "255/255 [==============================] - 0s 787us/step - loss: 0.4357 - accuracy: 0.7926\n",
      "Epoch 39/100\n",
      "255/255 [==============================] - 0s 772us/step - loss: 0.4350 - accuracy: 0.7929\n",
      "Epoch 40/100\n",
      "255/255 [==============================] - 0s 756us/step - loss: 0.4347 - accuracy: 0.7940\n",
      "Epoch 41/100\n",
      "255/255 [==============================] - 0s 757us/step - loss: 0.4349 - accuracy: 0.7922\n",
      "Epoch 42/100\n",
      "255/255 [==============================] - 0s 756us/step - loss: 0.4355 - accuracy: 0.7929\n",
      "Epoch 43/100\n",
      "255/255 [==============================] - 0s 756us/step - loss: 0.4335 - accuracy: 0.7966\n",
      "Epoch 44/100\n",
      "255/255 [==============================] - 0s 780us/step - loss: 0.4341 - accuracy: 0.7952\n",
      "Epoch 45/100\n",
      "255/255 [==============================] - 0s 859us/step - loss: 0.4335 - accuracy: 0.7954\n",
      "Epoch 46/100\n",
      "255/255 [==============================] - 0s 795us/step - loss: 0.4332 - accuracy: 0.7959\n",
      "Epoch 47/100\n",
      "255/255 [==============================] - 0s 768us/step - loss: 0.4341 - accuracy: 0.7962\n",
      "Epoch 48/100\n",
      "255/255 [==============================] - 0s 823us/step - loss: 0.4329 - accuracy: 0.7948\n",
      "Epoch 49/100\n",
      "255/255 [==============================] - 0s 854us/step - loss: 0.4327 - accuracy: 0.7970\n",
      "Epoch 50/100\n",
      "255/255 [==============================] - 0s 795us/step - loss: 0.4327 - accuracy: 0.7957\n",
      "Epoch 51/100\n",
      "255/255 [==============================] - 0s 768us/step - loss: 0.4321 - accuracy: 0.7956\n",
      "Epoch 52/100\n",
      "255/255 [==============================] - 0s 823us/step - loss: 0.4310 - accuracy: 0.7976\n",
      "Epoch 53/100\n",
      "255/255 [==============================] - 0s 768us/step - loss: 0.4314 - accuracy: 0.7951\n",
      "Epoch 54/100\n",
      "255/255 [==============================] - 0s 760us/step - loss: 0.4314 - accuracy: 0.7965\n",
      "Epoch 55/100\n",
      "255/255 [==============================] - 0s 806us/step - loss: 0.4305 - accuracy: 0.7967\n",
      "Epoch 56/100\n",
      "255/255 [==============================] - 0s 753us/step - loss: 0.4318 - accuracy: 0.7949\n",
      "Epoch 57/100\n",
      "255/255 [==============================] - 0s 764us/step - loss: 0.4311 - accuracy: 0.7976\n",
      "Epoch 58/100\n",
      "255/255 [==============================] - 0s 764us/step - loss: 0.4299 - accuracy: 0.7945\n",
      "Epoch 59/100\n",
      "255/255 [==============================] - 0s 756us/step - loss: 0.4306 - accuracy: 0.7959\n",
      "Epoch 60/100\n",
      "255/255 [==============================] - 0s 764us/step - loss: 0.4307 - accuracy: 0.7967\n",
      "Epoch 61/100\n",
      "255/255 [==============================] - 0s 776us/step - loss: 0.4305 - accuracy: 0.7958\n",
      "Epoch 62/100\n",
      "255/255 [==============================] - 0s 760us/step - loss: 0.4308 - accuracy: 0.7954\n",
      "Epoch 63/100\n",
      "255/255 [==============================] - 0s 768us/step - loss: 0.4305 - accuracy: 0.7958\n",
      "Epoch 64/100\n",
      "255/255 [==============================] - 0s 772us/step - loss: 0.4301 - accuracy: 0.7955\n",
      "Epoch 65/100\n",
      "255/255 [==============================] - 0s 756us/step - loss: 0.4302 - accuracy: 0.7939\n",
      "Epoch 66/100\n",
      "255/255 [==============================] - 0s 796us/step - loss: 0.4305 - accuracy: 0.7964\n",
      "Epoch 67/100\n",
      "255/255 [==============================] - 0s 760us/step - loss: 0.4300 - accuracy: 0.7972\n",
      "Epoch 68/100\n",
      "255/255 [==============================] - 0s 768us/step - loss: 0.4293 - accuracy: 0.7986\n",
      "Epoch 69/100\n",
      "255/255 [==============================] - 0s 764us/step - loss: 0.4288 - accuracy: 0.7956\n",
      "Epoch 70/100\n",
      "255/255 [==============================] - 0s 760us/step - loss: 0.4293 - accuracy: 0.7964\n",
      "Epoch 71/100\n",
      "255/255 [==============================] - 0s 764us/step - loss: 0.4291 - accuracy: 0.7970\n",
      "Epoch 72/100\n",
      "255/255 [==============================] - 0s 780us/step - loss: 0.4304 - accuracy: 0.7976\n",
      "Epoch 73/100\n",
      "255/255 [==============================] - 0s 764us/step - loss: 0.4289 - accuracy: 0.7975\n",
      "Epoch 74/100\n",
      "255/255 [==============================] - 0s 760us/step - loss: 0.4288 - accuracy: 0.7979\n",
      "Epoch 75/100\n",
      "255/255 [==============================] - 0s 780us/step - loss: 0.4281 - accuracy: 0.7999\n",
      "Epoch 76/100\n",
      "255/255 [==============================] - 0s 772us/step - loss: 0.4288 - accuracy: 0.7984\n",
      "Epoch 77/100\n",
      "255/255 [==============================] - 0s 787us/step - loss: 0.4285 - accuracy: 0.7965\n",
      "Epoch 78/100\n",
      "255/255 [==============================] - 0s 772us/step - loss: 0.4281 - accuracy: 0.7986\n",
      "Epoch 79/100\n",
      "255/255 [==============================] - 0s 760us/step - loss: 0.4286 - accuracy: 0.7985\n",
      "Epoch 80/100\n",
      "255/255 [==============================] - 0s 760us/step - loss: 0.4279 - accuracy: 0.8006\n",
      "Epoch 81/100\n",
      "255/255 [==============================] - 0s 761us/step - loss: 0.4280 - accuracy: 0.7969\n",
      "Epoch 82/100\n",
      "255/255 [==============================] - 0s 761us/step - loss: 0.4278 - accuracy: 0.7992\n",
      "Epoch 83/100\n",
      "255/255 [==============================] - 0s 780us/step - loss: 0.4297 - accuracy: 0.7965\n",
      "Epoch 84/100\n",
      "255/255 [==============================] - 0s 768us/step - loss: 0.4271 - accuracy: 0.7991\n",
      "Epoch 85/100\n",
      "255/255 [==============================] - 0s 760us/step - loss: 0.4271 - accuracy: 0.7993\n",
      "Epoch 86/100\n",
      "255/255 [==============================] - 0s 764us/step - loss: 0.4274 - accuracy: 0.7974\n",
      "Epoch 87/100\n",
      "255/255 [==============================] - 0s 821us/step - loss: 0.4272 - accuracy: 0.7981\n",
      "Epoch 88/100\n",
      "255/255 [==============================] - 0s 782us/step - loss: 0.4274 - accuracy: 0.8000\n",
      "Epoch 89/100\n",
      "255/255 [==============================] - 0s 772us/step - loss: 0.4271 - accuracy: 0.7995\n",
      "Epoch 90/100\n",
      "255/255 [==============================] - 0s 760us/step - loss: 0.4276 - accuracy: 0.7965\n",
      "Epoch 91/100\n",
      "255/255 [==============================] - 0s 768us/step - loss: 0.4273 - accuracy: 0.7998\n",
      "Epoch 92/100\n",
      "255/255 [==============================] - 0s 764us/step - loss: 0.4263 - accuracy: 0.7981\n",
      "Epoch 93/100\n",
      "255/255 [==============================] - 0s 760us/step - loss: 0.4267 - accuracy: 0.7999\n",
      "Epoch 94/100\n",
      "255/255 [==============================] - 0s 783us/step - loss: 0.4264 - accuracy: 0.7992\n",
      "Epoch 95/100\n",
      "255/255 [==============================] - 0s 760us/step - loss: 0.4266 - accuracy: 0.7997\n",
      "Epoch 96/100\n",
      "255/255 [==============================] - 0s 757us/step - loss: 0.4270 - accuracy: 0.8017\n",
      "Epoch 97/100\n",
      "255/255 [==============================] - 0s 760us/step - loss: 0.4264 - accuracy: 0.8017\n",
      "Epoch 98/100\n",
      "255/255 [==============================] - 0s 786us/step - loss: 0.4262 - accuracy: 0.7998\n",
      "Epoch 99/100\n",
      "255/255 [==============================] - 0s 762us/step - loss: 0.4253 - accuracy: 0.7996\n",
      "Epoch 100/100\n",
      "255/255 [==============================] - 0s 780us/step - loss: 0.4252 - accuracy: 0.8017\n"
     ]
    },
    {
     "data": {
      "text/plain": [
       "<keras.callbacks.History at 0x2362184aad0>"
      ]
     },
     "execution_count": 39,
     "metadata": {},
     "output_type": "execute_result"
    }
   ],
   "source": [
    "model.fit(X_train, y_train, epochs=100, batch_size=50)"
   ]
  },
  {
   "cell_type": "code",
   "execution_count": 43,
   "metadata": {},
   "outputs": [
    {
     "name": "stdout",
     "output_type": "stream",
     "text": [
      "100/100 [==============================] - 0s 657us/step - loss: 0.4188 - accuracy: 0.7957\n"
     ]
    }
   ],
   "source": [
    "loss, accuracy = model.evaluate(X_test, y_test)"
   ]
  },
  {
   "cell_type": "code",
   "execution_count": 44,
   "metadata": {},
   "outputs": [
    {
     "name": "stdout",
     "output_type": "stream",
     "text": [
      "100/100 [==============================] - 0s 576us/step\n"
     ]
    },
    {
     "data": {
      "text/plain": [
       "array([[1],\n",
       "       [1],\n",
       "       [1],\n",
       "       [1],\n",
       "       [0]])"
      ]
     },
     "execution_count": 44,
     "metadata": {},
     "output_type": "execute_result"
    }
   ],
   "source": [
    "pred = model.predict(X_test)\n",
    "binary_pred = (pred > 0.5).astype(int)\n",
    "binary_pred[10:15]"
   ]
  },
  {
   "cell_type": "code",
   "execution_count": 45,
   "metadata": {},
   "outputs": [
    {
     "name": "stdout",
     "output_type": "stream",
     "text": [
      "              precision    recall  f1-score   support\n",
      "\n",
      "           0       0.83      0.76      0.79      1633\n",
      "           1       0.77      0.83      0.80      1553\n",
      "\n",
      "    accuracy                           0.80      3186\n",
      "   macro avg       0.80      0.80      0.80      3186\n",
      "weighted avg       0.80      0.80      0.80      3186\n",
      "\n"
     ]
    }
   ],
   "source": [
    "from sklearn.metrics import classification_report\n",
    "print(classification_report(y_test, binary_pred))"
   ]
  },
  {
   "cell_type": "code",
   "execution_count": 47,
   "metadata": {},
   "outputs": [],
   "source": [
    "from sklearn.metrics import confusion_matrix\n",
    "cf = confusion_matrix(y_test, binary_pred, normalize='true')"
   ]
  },
  {
   "cell_type": "code",
   "execution_count": 48,
   "metadata": {},
   "outputs": [
    {
     "data": {
      "text/plain": [
       "<Axes: >"
      ]
     },
     "execution_count": 48,
     "metadata": {},
     "output_type": "execute_result"
    },
    {
     "data": {
      "image/png": "[encoded data removed]",
      "text/plain": [
       "<Figure size 640x480 with 2 Axes>"
      ]
     },
     "metadata": {},
     "output_type": "display_data"
    }
   ],
   "source": [
    "import seaborn as sns\n",
    "sns.heatmap(cf, cmap='Blues', annot=True)"
   ]
  }
 ],
 "metadata": {
  "kernelspec": {
   "display_name": "bankchurn",
   "language": "python",
   "name": "python3"
  },
  "language_info": {
   "codemirror_mode": {
    "name": "ipython",
    "version": 3
   },
   "file_extension": ".py",
   "mimetype": "text/x-python",
   "name": "python",
   "nbconvert_exporter": "python",
   "pygments_lexer": "ipython3",
   "version": "3.10.13"
  }
 },
 "nbformat": 4,
 "nbformat_minor": 2
}
